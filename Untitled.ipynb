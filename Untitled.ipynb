{
 "cells": [
  {
   "cell_type": "code",
   "execution_count": 2,
   "id": "9fe97546-eaa1-408e-b610-4527e40cac0e",
   "metadata": {},
   "outputs": [
    {
     "name": "stdout",
     "output_type": "stream",
     "text": [
      "/opt/conda/lib/python3.9/site-packages/torchvision/io/image.py:11: UserWarning: Failed to load image Python extension: libtorch_cuda_cu.so: cannot open shared object file: No such file or directory\n",
      "  warn(f\"Failed to load image Python extension: {e}\")\n",
      "Traceback (most recent call last):\n",
      "  File \"/root/dev/Modified_StructureFlow/test.py\", line 1, in <module>\n",
      "    from main import main\n",
      "  File \"/root/dev/Modified_StructureFlow/main.py\", line 6, in <module>\n",
      "    from src.structure_flow import StructureFlow\n",
      "  File \"/root/dev/Modified_StructureFlow/src/structure_flow.py\", line 14, in <module>\n",
      "    from .data import Dataset\n",
      "  File \"/root/dev/Modified_StructureFlow/src/data.py\", line 16, in <module>\n",
      "    import cv2\n",
      "ImportError: /usr/lib/x86_64-linux-gnu/libstdc++.so.6: version `GLIBCXX_3.4.26' not found (required by /opt/conda/lib/python3.9/site-packages/cv2.cpython-39-x86_64-linux-gnu.so)\n"
     ]
    }
   ],
   "source": [
    "!source eval.sh"
   ]
  },
  {
   "cell_type": "code",
   "execution_count": null,
   "id": "27e62eb9-f8b1-4c8d-b913-78326a3bf82d",
   "metadata": {},
   "outputs": [],
   "source": []
  }
 ],
 "metadata": {
  "kernelspec": {
   "display_name": "Python 3 (ipykernel)",
   "language": "python",
   "name": "python3"
  },
  "language_info": {
   "codemirror_mode": {
    "name": "ipython",
    "version": 3
   },
   "file_extension": ".py",
   "mimetype": "text/x-python",
   "name": "python",
   "nbconvert_exporter": "python",
   "pygments_lexer": "ipython3",
   "version": "3.9.5"
  }
 },
 "nbformat": 4,
 "nbformat_minor": 5
}
