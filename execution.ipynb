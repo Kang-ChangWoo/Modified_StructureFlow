{
 "cells": [
  {
   "cell_type": "code",
   "execution_count": 2,
   "id": "9fe97546-eaa1-408e-b610-4527e40cac0e",
   "metadata": {},
   "outputs": [
    {
     "name": "stdout",
     "output_type": "stream",
     "text": [
      "/opt/conda/lib/python3.9/site-packages/torchvision/io/image.py:11: UserWarning: Failed to load image Python extension: libtorch_cuda_cu.so: cannot open shared object file: No such file or directory\n",
      "  warn(f\"Failed to load image Python extension: {e}\")\n",
      "Traceback (most recent call last):\n",
      "  File \"/root/dev/Modified_StructureFlow/test.py\", line 1, in <module>\n",
      "    from main import main\n",
      "  File \"/root/dev/Modified_StructureFlow/main.py\", line 6, in <module>\n",
      "    from src.structure_flow import StructureFlow\n",
      "  File \"/root/dev/Modified_StructureFlow/src/structure_flow.py\", line 14, in <module>\n",
      "    from .data import Dataset\n",
      "  File \"/root/dev/Modified_StructureFlow/src/data.py\", line 16, in <module>\n",
      "    import cv2\n",
      "ImportError: /usr/lib/x86_64-linux-gnu/libstdc++.so.6: version `GLIBCXX_3.4.26' not found (required by /opt/conda/lib/python3.9/site-packages/cv2.cpython-39-x86_64-linux-gnu.so)\n"
     ]
    }
   ],
   "source": [
    "!source eval.sh"
   ]
  },
  {
   "cell_type": "code",
   "execution_count": 8,
   "id": "27e62eb9-f8b1-4c8d-b913-78326a3bf82d",
   "metadata": {},
   "outputs": [
    {
     "name": "stdout",
     "output_type": "stream",
     "text": [
      "loading /root/dev/FinalTerm_DGMS_public_data/masks/\n"
     ]
    }
   ],
   "source": [
    "!python scripts/flist.py --path /root/dev/FinalTerm_DGMS_public_data/masks/ --output masks.flist"
   ]
  },
  {
   "cell_type": "code",
   "execution_count": 5,
   "id": "9c262354-7c8c-4357-a09d-20ad60973532",
   "metadata": {},
   "outputs": [
    {
     "name": "stdout",
     "output_type": "stream",
     "text": [
      "/root/dev/Modified_StructureFlow\n"
     ]
    }
   ],
   "source": [
    "!pwd"
   ]
  },
  {
   "cell_type": "code",
   "execution_count": 9,
   "id": "22454337-8374-4781-98b4-3d48987f1d5c",
   "metadata": {},
   "outputs": [],
   "source": [
    "import cv2"
   ]
  },
  {
   "cell_type": "code",
   "execution_count": 27,
   "id": "c197e991-197d-4abe-a272-05a533e691ba",
   "metadata": {},
   "outputs": [
    {
     "data": {
      "text/plain": [
       "(256, 256, 3)"
      ]
     },
     "execution_count": 27,
     "metadata": {},
     "output_type": "execute_result"
    }
   ],
   "source": [
    "cv2.imread('example/celeba/1.jpg').shape"
   ]
  },
  {
   "cell_type": "code",
   "execution_count": 18,
   "id": "15aa2166-f4a7-421b-87c1-0a4d85e77157",
   "metadata": {},
   "outputs": [
    {
     "data": {
      "text/plain": [
       "17738820"
      ]
     },
     "execution_count": 18,
     "metadata": {},
     "output_type": "execute_result"
    }
   ],
   "source": [
    "cv2.imread('example/celeba/1_mask.png').sum()"
   ]
  },
  {
   "cell_type": "code",
   "execution_count": 22,
   "id": "f666b197-81d5-47e5-891a-758df29167fe",
   "metadata": {},
   "outputs": [
    {
     "data": {
      "text/plain": [
       "(224, 224, 3)"
      ]
     },
     "execution_count": 22,
     "metadata": {},
     "output_type": "execute_result"
    }
   ],
   "source": [
    "cv2.imread('../FinalTerm_DGMS_public_data/input/000.png').shape"
   ]
  },
  {
   "cell_type": "code",
   "execution_count": 15,
   "id": "e2c08cef-c3c3-4f83-9164-59a9f9b3b28a",
   "metadata": {},
   "outputs": [
    {
     "name": "stderr",
     "output_type": "stream",
     "text": [
      "100%|███████████████████████████████████████████████████████████████████████████| 600/600 [00:13<00:00, 43.56it/s]\n"
     ]
    }
   ],
   "source": [
    "import cv2\n",
    "import os\n",
    "from tqdm import tqdm\n",
    "\n",
    "iPATH = '../FinalTerm_DGMS_public_data/masks/'\n",
    "flist = os.listdir(iPATH)\n",
    "flist = [i for i in flist if i.split('.')[-1] == 'png' ]\n",
    "\n",
    "fPATH ='../FinalTerm_DGMS_public_data/masks_/'\n",
    "os.mkdir(fPATH)\n",
    "\n",
    "for i in tqdm(flist):\n",
    "    img = cv2.imread(iPATH+i)\n",
    "    \n",
    "    img[img == 0] = 255\n",
    "    img[img == 1] = 0\n",
    "\n",
    "    cv2.imwrite(fPATH + i,img)"
   ]
  },
  {
   "cell_type": "code",
   "execution_count": 33,
   "id": "623df2ab-e81a-4874-90c2-d43937b4c6be",
   "metadata": {},
   "outputs": [
    {
     "name": "stderr",
     "output_type": "stream",
     "text": [
      "100%|███████████████████████████████████████████████████████████████████████████| 600/600 [00:13<00:00, 44.38it/s]\n"
     ]
    }
   ],
   "source": [
    "import cv2\n",
    "import os\n",
    "from tqdm import tqdm\n",
    "\n",
    "iPATH = '../FinalTerm_DGMS_public_data/result_model3/'\n",
    "flist = os.listdir(iPATH)\n",
    "flist = [i for i in flist if i.split('.')[-1] == 'png' ]\n",
    "\n",
    "fPATH ='../FinalTerm_DGMS_public_data/result_model3_/'\n",
    "#os.mkdir(fPATH)\n",
    "\n",
    "for i in tqdm(flist):\n",
    "    img = cv2.imread(iPATH+i)\n",
    "    \n",
    "    img = cv2.resize(img, (224,224))\n",
    "\n",
    "    cv2.imwrite(fPATH + 'result_' + i,img)"
   ]
  },
  {
   "cell_type": "code",
   "execution_count": null,
   "id": "33fc406e-8263-41c1-a543-2e25e50d24bb",
   "metadata": {},
   "outputs": [],
   "source": []
  }
 ],
 "metadata": {
  "kernelspec": {
   "display_name": "Python 3 (ipykernel)",
   "language": "python",
   "name": "python3"
  },
  "language_info": {
   "codemirror_mode": {
    "name": "ipython",
    "version": 3
   },
   "file_extension": ".py",
   "mimetype": "text/x-python",
   "name": "python",
   "nbconvert_exporter": "python",
   "pygments_lexer": "ipython3",
   "version": "3.9.5"
  }
 },
 "nbformat": 4,
 "nbformat_minor": 5
}
